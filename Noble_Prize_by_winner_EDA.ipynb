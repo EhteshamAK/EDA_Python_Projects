{
 "cells": [
  {
   "cell_type": "markdown",
   "id": "6cfd91ab",
   "metadata": {},
   "source": [
    "### In this dataset we will explore the details of Noble Prize winners\n",
    "\n",
    "  > ##### We will try to answer the following questions?\n",
    "\n",
    " * Which coutry has most Noble prize winner?\n",
    " - In which subject most noble prize granted?\n",
    " + Which subject has most  noble laurates?\n",
    " * which gender has most noble laurates?\n",
    " * In which era most of the noble prize had been granted?\n",
    " "
   ]
  },
  {
   "cell_type": "code",
   "execution_count": 1,
   "id": "3f3fdd4b",
   "metadata": {},
   "outputs": [],
   "source": [
    "# import libraries\n",
    "import pandas as pd\n",
    "import numpy as np\n",
    "import matplotlib.pyplot as plt\n",
    "%matplotlib inline\n",
    "import seaborn as sns"
   ]
  },
  {
   "cell_type": "code",
   "execution_count": 2,
   "id": "907f4744",
   "metadata": {},
   "outputs": [],
   "source": [
    "# Load the dataset\n",
    "df = pd.read_csv(\"nobel_prize_by_winner.csv\")"
   ]
  },
  {
   "cell_type": "code",
   "execution_count": 3,
   "id": "73c56512",
   "metadata": {},
   "outputs": [
    {
     "data": {
      "text/html": [
       "<div>\n",
       "<style scoped>\n",
       "    .dataframe tbody tr th:only-of-type {\n",
       "        vertical-align: middle;\n",
       "    }\n",
       "\n",
       "    .dataframe tbody tr th {\n",
       "        vertical-align: top;\n",
       "    }\n",
       "\n",
       "    .dataframe thead th {\n",
       "        text-align: right;\n",
       "    }\n",
       "</style>\n",
       "<table border=\"1\" class=\"dataframe\">\n",
       "  <thead>\n",
       "    <tr style=\"text-align: right;\">\n",
       "      <th></th>\n",
       "      <th>index</th>\n",
       "      <th>id</th>\n",
       "      <th>firstname</th>\n",
       "      <th>surname</th>\n",
       "      <th>born</th>\n",
       "      <th>died</th>\n",
       "      <th>bornCountry</th>\n",
       "      <th>bornCountryCode</th>\n",
       "      <th>bornCity</th>\n",
       "      <th>diedCountry</th>\n",
       "      <th>...</th>\n",
       "      <th>diedCity</th>\n",
       "      <th>gender</th>\n",
       "      <th>year</th>\n",
       "      <th>category</th>\n",
       "      <th>overallMotivation</th>\n",
       "      <th>share</th>\n",
       "      <th>motivation</th>\n",
       "      <th>name</th>\n",
       "      <th>city</th>\n",
       "      <th>country</th>\n",
       "    </tr>\n",
       "  </thead>\n",
       "  <tbody>\n",
       "    <tr>\n",
       "      <th>0</th>\n",
       "      <td>0</td>\n",
       "      <td>846</td>\n",
       "      <td>Elinor</td>\n",
       "      <td>Ostrom</td>\n",
       "      <td>8/7/1933</td>\n",
       "      <td>6/12/2012</td>\n",
       "      <td>USA</td>\n",
       "      <td>US</td>\n",
       "      <td>Los Angeles, CA</td>\n",
       "      <td>USA</td>\n",
       "      <td>...</td>\n",
       "      <td>Bloomington, IN</td>\n",
       "      <td>female</td>\n",
       "      <td>2009.0</td>\n",
       "      <td>economics</td>\n",
       "      <td>NaN</td>\n",
       "      <td>2.0</td>\n",
       "      <td>\"for her analysis of economic governance, espe...</td>\n",
       "      <td>Indiana University</td>\n",
       "      <td>Bloomington, IN</td>\n",
       "      <td>USA</td>\n",
       "    </tr>\n",
       "    <tr>\n",
       "      <th>1</th>\n",
       "      <td>1</td>\n",
       "      <td>846</td>\n",
       "      <td>Elinor</td>\n",
       "      <td>Ostrom</td>\n",
       "      <td>8/7/1933</td>\n",
       "      <td>6/12/2012</td>\n",
       "      <td>USA</td>\n",
       "      <td>US</td>\n",
       "      <td>Los Angeles, CA</td>\n",
       "      <td>USA</td>\n",
       "      <td>...</td>\n",
       "      <td>Bloomington, IN</td>\n",
       "      <td>female</td>\n",
       "      <td>2009.0</td>\n",
       "      <td>economics</td>\n",
       "      <td>NaN</td>\n",
       "      <td>2.0</td>\n",
       "      <td>\"for her analysis of economic governance, espe...</td>\n",
       "      <td>Arizona State University</td>\n",
       "      <td>Tempe, AZ</td>\n",
       "      <td>USA</td>\n",
       "    </tr>\n",
       "  </tbody>\n",
       "</table>\n",
       "<p>2 rows × 21 columns</p>\n",
       "</div>"
      ],
      "text/plain": [
       "   index   id firstname surname      born       died bornCountry  \\\n",
       "0      0  846    Elinor  Ostrom  8/7/1933  6/12/2012         USA   \n",
       "1      1  846    Elinor  Ostrom  8/7/1933  6/12/2012         USA   \n",
       "\n",
       "  bornCountryCode         bornCity diedCountry  ...         diedCity  gender  \\\n",
       "0              US  Los Angeles, CA         USA  ...  Bloomington, IN  female   \n",
       "1              US  Los Angeles, CA         USA  ...  Bloomington, IN  female   \n",
       "\n",
       "     year   category overallMotivation share  \\\n",
       "0  2009.0  economics               NaN   2.0   \n",
       "1  2009.0  economics               NaN   2.0   \n",
       "\n",
       "                                          motivation  \\\n",
       "0  \"for her analysis of economic governance, espe...   \n",
       "1  \"for her analysis of economic governance, espe...   \n",
       "\n",
       "                       name             city country  \n",
       "0        Indiana University  Bloomington, IN     USA  \n",
       "1  Arizona State University        Tempe, AZ     USA  \n",
       "\n",
       "[2 rows x 21 columns]"
      ]
     },
     "execution_count": 3,
     "metadata": {},
     "output_type": "execute_result"
    }
   ],
   "source": [
    "df.head(2)"
   ]
  },
  {
   "cell_type": "code",
   "execution_count": 4,
   "id": "f324ccae",
   "metadata": {},
   "outputs": [
    {
     "name": "stdout",
     "output_type": "stream",
     "text": [
      "<class 'pandas.core.frame.DataFrame'>\n",
      "RangeIndex: 972 entries, 0 to 971\n",
      "Data columns (total 21 columns):\n",
      " #   Column             Non-Null Count  Dtype  \n",
      "---  ------             --------------  -----  \n",
      " 0   index              972 non-null    int64  \n",
      " 1   id                 972 non-null    int64  \n",
      " 2   firstname          966 non-null    object \n",
      " 3   surname            936 non-null    object \n",
      " 4   born               946 non-null    object \n",
      " 5   died               946 non-null    object \n",
      " 6   bornCountry        940 non-null    object \n",
      " 7   bornCountryCode    940 non-null    object \n",
      " 8   bornCity           938 non-null    object \n",
      " 9   diedCountry        601 non-null    object \n",
      " 10  diedCountryCode    600 non-null    object \n",
      " 11  diedCity           595 non-null    object \n",
      " 12  gender             972 non-null    object \n",
      " 13  year               966 non-null    float64\n",
      " 14  category           966 non-null    object \n",
      " 15  overallMotivation  16 non-null     object \n",
      " 16  share              966 non-null    float64\n",
      " 17  motivation         878 non-null    object \n",
      " 18  name               720 non-null    object \n",
      " 19  city               714 non-null    object \n",
      " 20  country            714 non-null    object \n",
      "dtypes: float64(2), int64(2), object(17)\n",
      "memory usage: 159.6+ KB\n"
     ]
    }
   ],
   "source": [
    "df.info()"
   ]
  },
  {
   "cell_type": "code",
   "execution_count": 5,
   "id": "f9259a60",
   "metadata": {},
   "outputs": [
    {
     "data": {
      "text/plain": [
       "index                  0\n",
       "id                     0\n",
       "firstname              6\n",
       "surname               36\n",
       "born                  26\n",
       "died                  26\n",
       "bornCountry           32\n",
       "bornCountryCode       32\n",
       "bornCity              34\n",
       "diedCountry          371\n",
       "diedCountryCode      372\n",
       "diedCity             377\n",
       "gender                 0\n",
       "year                   6\n",
       "category               6\n",
       "overallMotivation    956\n",
       "share                  6\n",
       "motivation            94\n",
       "name                 252\n",
       "city                 258\n",
       "country              258\n",
       "dtype: int64"
      ]
     },
     "execution_count": 5,
     "metadata": {},
     "output_type": "execute_result"
    }
   ],
   "source": [
    "# checking the null values\n",
    "df.isnull().sum()"
   ]
  },
  {
   "cell_type": "code",
   "execution_count": 6,
   "id": "92fc937e",
   "metadata": {},
   "outputs": [
    {
     "data": {
      "text/plain": [
       "index                  int64\n",
       "id                     int64\n",
       "firstname             object\n",
       "surname               object\n",
       "born                  object\n",
       "died                  object\n",
       "bornCountry           object\n",
       "bornCountryCode       object\n",
       "bornCity              object\n",
       "diedCountry           object\n",
       "diedCountryCode       object\n",
       "diedCity              object\n",
       "gender                object\n",
       "year                 float64\n",
       "category              object\n",
       "overallMotivation     object\n",
       "share                float64\n",
       "motivation            object\n",
       "name                  object\n",
       "city                  object\n",
       "country               object\n",
       "dtype: object"
      ]
     },
     "execution_count": 6,
     "metadata": {},
     "output_type": "execute_result"
    }
   ],
   "source": [
    "# get the data type of data set\n",
    "df.dtypes"
   ]
  },
  {
   "cell_type": "code",
   "execution_count": 7,
   "id": "2619ae17",
   "metadata": {},
   "outputs": [
    {
     "data": {
      "text/plain": [
       "(972, 21)"
      ]
     },
     "execution_count": 7,
     "metadata": {},
     "output_type": "execute_result"
    }
   ],
   "source": [
    "# get the shape\n",
    "df.shape"
   ]
  },
  {
   "cell_type": "code",
   "execution_count": 8,
   "id": "bcaf6a99",
   "metadata": {},
   "outputs": [
    {
     "data": {
      "text/html": [
       "<div>\n",
       "<style scoped>\n",
       "    .dataframe tbody tr th:only-of-type {\n",
       "        vertical-align: middle;\n",
       "    }\n",
       "\n",
       "    .dataframe tbody tr th {\n",
       "        vertical-align: top;\n",
       "    }\n",
       "\n",
       "    .dataframe thead th {\n",
       "        text-align: right;\n",
       "    }\n",
       "</style>\n",
       "<table border=\"1\" class=\"dataframe\">\n",
       "  <thead>\n",
       "    <tr style=\"text-align: right;\">\n",
       "      <th></th>\n",
       "      <th>index</th>\n",
       "      <th>id</th>\n",
       "      <th>year</th>\n",
       "      <th>share</th>\n",
       "    </tr>\n",
       "  </thead>\n",
       "  <tbody>\n",
       "    <tr>\n",
       "      <th>count</th>\n",
       "      <td>972.000000</td>\n",
       "      <td>972.000000</td>\n",
       "      <td>966.000000</td>\n",
       "      <td>966.000000</td>\n",
       "    </tr>\n",
       "    <tr>\n",
       "      <th>mean</th>\n",
       "      <td>485.500000</td>\n",
       "      <td>471.365226</td>\n",
       "      <td>1970.145963</td>\n",
       "      <td>2.005176</td>\n",
       "    </tr>\n",
       "    <tr>\n",
       "      <th>std</th>\n",
       "      <td>280.736531</td>\n",
       "      <td>275.012711</td>\n",
       "      <td>32.889742</td>\n",
       "      <td>0.930193</td>\n",
       "    </tr>\n",
       "    <tr>\n",
       "      <th>min</th>\n",
       "      <td>0.000000</td>\n",
       "      <td>1.000000</td>\n",
       "      <td>1901.000000</td>\n",
       "      <td>1.000000</td>\n",
       "    </tr>\n",
       "    <tr>\n",
       "      <th>25%</th>\n",
       "      <td>242.750000</td>\n",
       "      <td>230.750000</td>\n",
       "      <td>1947.000000</td>\n",
       "      <td>1.000000</td>\n",
       "    </tr>\n",
       "    <tr>\n",
       "      <th>50%</th>\n",
       "      <td>485.500000</td>\n",
       "      <td>463.500000</td>\n",
       "      <td>1976.000000</td>\n",
       "      <td>2.000000</td>\n",
       "    </tr>\n",
       "    <tr>\n",
       "      <th>75%</th>\n",
       "      <td>728.250000</td>\n",
       "      <td>720.250000</td>\n",
       "      <td>1999.000000</td>\n",
       "      <td>3.000000</td>\n",
       "    </tr>\n",
       "    <tr>\n",
       "      <th>max</th>\n",
       "      <td>971.000000</td>\n",
       "      <td>934.000000</td>\n",
       "      <td>2016.000000</td>\n",
       "      <td>4.000000</td>\n",
       "    </tr>\n",
       "  </tbody>\n",
       "</table>\n",
       "</div>"
      ],
      "text/plain": [
       "            index          id         year       share\n",
       "count  972.000000  972.000000   966.000000  966.000000\n",
       "mean   485.500000  471.365226  1970.145963    2.005176\n",
       "std    280.736531  275.012711    32.889742    0.930193\n",
       "min      0.000000    1.000000  1901.000000    1.000000\n",
       "25%    242.750000  230.750000  1947.000000    1.000000\n",
       "50%    485.500000  463.500000  1976.000000    2.000000\n",
       "75%    728.250000  720.250000  1999.000000    3.000000\n",
       "max    971.000000  934.000000  2016.000000    4.000000"
      ]
     },
     "execution_count": 8,
     "metadata": {},
     "output_type": "execute_result"
    }
   ],
   "source": [
    "# statistical details about the dataset\n",
    "df.describe()"
   ]
  },
  {
   "cell_type": "code",
   "execution_count": 9,
   "id": "9288256a",
   "metadata": {},
   "outputs": [],
   "source": [
    "# delete the irrelevant columns index, bornCountryCode, diedCountryCode,overallMotivation\n",
    "df.drop([\"index\",\"bornCountryCode\",\"diedCountryCode\",\"overallMotivation\"],axis=1,inplace=True)"
   ]
  },
  {
   "cell_type": "code",
   "execution_count": 10,
   "id": "b33e236e",
   "metadata": {},
   "outputs": [
    {
     "data": {
      "text/html": [
       "<div>\n",
       "<style scoped>\n",
       "    .dataframe tbody tr th:only-of-type {\n",
       "        vertical-align: middle;\n",
       "    }\n",
       "\n",
       "    .dataframe tbody tr th {\n",
       "        vertical-align: top;\n",
       "    }\n",
       "\n",
       "    .dataframe thead th {\n",
       "        text-align: right;\n",
       "    }\n",
       "</style>\n",
       "<table border=\"1\" class=\"dataframe\">\n",
       "  <thead>\n",
       "    <tr style=\"text-align: right;\">\n",
       "      <th></th>\n",
       "      <th>id</th>\n",
       "      <th>firstname</th>\n",
       "      <th>surname</th>\n",
       "      <th>born</th>\n",
       "      <th>died</th>\n",
       "      <th>bornCountry</th>\n",
       "      <th>bornCity</th>\n",
       "      <th>diedCountry</th>\n",
       "      <th>diedCity</th>\n",
       "      <th>gender</th>\n",
       "      <th>year</th>\n",
       "      <th>category</th>\n",
       "      <th>share</th>\n",
       "      <th>motivation</th>\n",
       "      <th>name</th>\n",
       "      <th>city</th>\n",
       "      <th>country</th>\n",
       "    </tr>\n",
       "  </thead>\n",
       "  <tbody>\n",
       "    <tr>\n",
       "      <th>0</th>\n",
       "      <td>846</td>\n",
       "      <td>Elinor</td>\n",
       "      <td>Ostrom</td>\n",
       "      <td>8/7/1933</td>\n",
       "      <td>6/12/2012</td>\n",
       "      <td>USA</td>\n",
       "      <td>Los Angeles, CA</td>\n",
       "      <td>USA</td>\n",
       "      <td>Bloomington, IN</td>\n",
       "      <td>female</td>\n",
       "      <td>2009.0</td>\n",
       "      <td>economics</td>\n",
       "      <td>2.0</td>\n",
       "      <td>\"for her analysis of economic governance, espe...</td>\n",
       "      <td>Indiana University</td>\n",
       "      <td>Bloomington, IN</td>\n",
       "      <td>USA</td>\n",
       "    </tr>\n",
       "  </tbody>\n",
       "</table>\n",
       "</div>"
      ],
      "text/plain": [
       "    id firstname surname      born       died bornCountry         bornCity  \\\n",
       "0  846    Elinor  Ostrom  8/7/1933  6/12/2012         USA  Los Angeles, CA   \n",
       "\n",
       "  diedCountry         diedCity  gender    year   category  share  \\\n",
       "0         USA  Bloomington, IN  female  2009.0  economics    2.0   \n",
       "\n",
       "                                          motivation                name  \\\n",
       "0  \"for her analysis of economic governance, espe...  Indiana University   \n",
       "\n",
       "              city country  \n",
       "0  Bloomington, IN     USA  "
      ]
     },
     "execution_count": 10,
     "metadata": {},
     "output_type": "execute_result"
    }
   ],
   "source": [
    "df.head(1)"
   ]
  },
  {
   "cell_type": "code",
   "execution_count": 11,
   "id": "aa6c4f4f",
   "metadata": {},
   "outputs": [],
   "source": [
    "# rename the column \"name\" to \"Institue\"\n",
    "df.rename(columns={\"name\":\"Institute\"},inplace=True)"
   ]
  },
  {
   "cell_type": "code",
   "execution_count": 12,
   "id": "1794fda2",
   "metadata": {},
   "outputs": [
    {
     "data": {
      "text/html": [
       "<div>\n",
       "<style scoped>\n",
       "    .dataframe tbody tr th:only-of-type {\n",
       "        vertical-align: middle;\n",
       "    }\n",
       "\n",
       "    .dataframe tbody tr th {\n",
       "        vertical-align: top;\n",
       "    }\n",
       "\n",
       "    .dataframe thead th {\n",
       "        text-align: right;\n",
       "    }\n",
       "</style>\n",
       "<table border=\"1\" class=\"dataframe\">\n",
       "  <thead>\n",
       "    <tr style=\"text-align: right;\">\n",
       "      <th></th>\n",
       "      <th>id</th>\n",
       "      <th>firstname</th>\n",
       "      <th>surname</th>\n",
       "      <th>born</th>\n",
       "      <th>died</th>\n",
       "      <th>bornCountry</th>\n",
       "      <th>bornCity</th>\n",
       "      <th>diedCountry</th>\n",
       "      <th>diedCity</th>\n",
       "      <th>gender</th>\n",
       "      <th>year</th>\n",
       "      <th>category</th>\n",
       "      <th>share</th>\n",
       "      <th>motivation</th>\n",
       "      <th>Institute</th>\n",
       "      <th>city</th>\n",
       "      <th>country</th>\n",
       "    </tr>\n",
       "  </thead>\n",
       "  <tbody>\n",
       "    <tr>\n",
       "      <th>0</th>\n",
       "      <td>846</td>\n",
       "      <td>Elinor</td>\n",
       "      <td>Ostrom</td>\n",
       "      <td>8/7/1933</td>\n",
       "      <td>6/12/2012</td>\n",
       "      <td>USA</td>\n",
       "      <td>Los Angeles, CA</td>\n",
       "      <td>USA</td>\n",
       "      <td>Bloomington, IN</td>\n",
       "      <td>female</td>\n",
       "      <td>2009.0</td>\n",
       "      <td>economics</td>\n",
       "      <td>2.0</td>\n",
       "      <td>\"for her analysis of economic governance, espe...</td>\n",
       "      <td>Indiana University</td>\n",
       "      <td>Bloomington, IN</td>\n",
       "      <td>USA</td>\n",
       "    </tr>\n",
       "  </tbody>\n",
       "</table>\n",
       "</div>"
      ],
      "text/plain": [
       "    id firstname surname      born       died bornCountry         bornCity  \\\n",
       "0  846    Elinor  Ostrom  8/7/1933  6/12/2012         USA  Los Angeles, CA   \n",
       "\n",
       "  diedCountry         diedCity  gender    year   category  share  \\\n",
       "0         USA  Bloomington, IN  female  2009.0  economics    2.0   \n",
       "\n",
       "                                          motivation           Institute  \\\n",
       "0  \"for her analysis of economic governance, espe...  Indiana University   \n",
       "\n",
       "              city country  \n",
       "0  Bloomington, IN     USA  "
      ]
     },
     "execution_count": 12,
     "metadata": {},
     "output_type": "execute_result"
    }
   ],
   "source": [
    "df.head(1)"
   ]
  },
  {
   "cell_type": "code",
   "execution_count": 13,
   "id": "3aac2a1f",
   "metadata": {},
   "outputs": [],
   "source": [
    "# join the two columns firstname and surname into one \"Name\"\n",
    "df['Name'] = df['firstname']+\"-\"+df['surname']"
   ]
  },
  {
   "cell_type": "code",
   "execution_count": 14,
   "id": "65817386",
   "metadata": {},
   "outputs": [],
   "source": [
    "# Now delete the [firstname] and [surname] column\n",
    "df.drop(['firstname','surname'],axis=1,inplace=True)"
   ]
  },
  {
   "cell_type": "code",
   "execution_count": 15,
   "id": "ab993ca6",
   "metadata": {},
   "outputs": [
    {
     "data": {
      "text/html": [
       "<div>\n",
       "<style scoped>\n",
       "    .dataframe tbody tr th:only-of-type {\n",
       "        vertical-align: middle;\n",
       "    }\n",
       "\n",
       "    .dataframe tbody tr th {\n",
       "        vertical-align: top;\n",
       "    }\n",
       "\n",
       "    .dataframe thead th {\n",
       "        text-align: right;\n",
       "    }\n",
       "</style>\n",
       "<table border=\"1\" class=\"dataframe\">\n",
       "  <thead>\n",
       "    <tr style=\"text-align: right;\">\n",
       "      <th></th>\n",
       "      <th>id</th>\n",
       "      <th>born</th>\n",
       "      <th>died</th>\n",
       "      <th>bornCountry</th>\n",
       "      <th>bornCity</th>\n",
       "      <th>diedCountry</th>\n",
       "      <th>diedCity</th>\n",
       "      <th>gender</th>\n",
       "      <th>year</th>\n",
       "      <th>category</th>\n",
       "      <th>share</th>\n",
       "      <th>motivation</th>\n",
       "      <th>Institute</th>\n",
       "      <th>city</th>\n",
       "      <th>country</th>\n",
       "      <th>Name</th>\n",
       "    </tr>\n",
       "  </thead>\n",
       "  <tbody>\n",
       "    <tr>\n",
       "      <th>0</th>\n",
       "      <td>846</td>\n",
       "      <td>8/7/1933</td>\n",
       "      <td>6/12/2012</td>\n",
       "      <td>USA</td>\n",
       "      <td>Los Angeles, CA</td>\n",
       "      <td>USA</td>\n",
       "      <td>Bloomington, IN</td>\n",
       "      <td>female</td>\n",
       "      <td>2009.0</td>\n",
       "      <td>economics</td>\n",
       "      <td>2.0</td>\n",
       "      <td>\"for her analysis of economic governance, espe...</td>\n",
       "      <td>Indiana University</td>\n",
       "      <td>Bloomington, IN</td>\n",
       "      <td>USA</td>\n",
       "      <td>Elinor-Ostrom</td>\n",
       "    </tr>\n",
       "    <tr>\n",
       "      <th>1</th>\n",
       "      <td>846</td>\n",
       "      <td>8/7/1933</td>\n",
       "      <td>6/12/2012</td>\n",
       "      <td>USA</td>\n",
       "      <td>Los Angeles, CA</td>\n",
       "      <td>USA</td>\n",
       "      <td>Bloomington, IN</td>\n",
       "      <td>female</td>\n",
       "      <td>2009.0</td>\n",
       "      <td>economics</td>\n",
       "      <td>2.0</td>\n",
       "      <td>\"for her analysis of economic governance, espe...</td>\n",
       "      <td>Arizona State University</td>\n",
       "      <td>Tempe, AZ</td>\n",
       "      <td>USA</td>\n",
       "      <td>Elinor-Ostrom</td>\n",
       "    </tr>\n",
       "  </tbody>\n",
       "</table>\n",
       "</div>"
      ],
      "text/plain": [
       "    id      born       died bornCountry         bornCity diedCountry  \\\n",
       "0  846  8/7/1933  6/12/2012         USA  Los Angeles, CA         USA   \n",
       "1  846  8/7/1933  6/12/2012         USA  Los Angeles, CA         USA   \n",
       "\n",
       "          diedCity  gender    year   category  share  \\\n",
       "0  Bloomington, IN  female  2009.0  economics    2.0   \n",
       "1  Bloomington, IN  female  2009.0  economics    2.0   \n",
       "\n",
       "                                          motivation  \\\n",
       "0  \"for her analysis of economic governance, espe...   \n",
       "1  \"for her analysis of economic governance, espe...   \n",
       "\n",
       "                  Institute             city country           Name  \n",
       "0        Indiana University  Bloomington, IN     USA  Elinor-Ostrom  \n",
       "1  Arizona State University        Tempe, AZ     USA  Elinor-Ostrom  "
      ]
     },
     "execution_count": 15,
     "metadata": {},
     "output_type": "execute_result"
    }
   ],
   "source": [
    "df.head(2)"
   ]
  },
  {
   "cell_type": "code",
   "execution_count": 16,
   "id": "ab99bb32",
   "metadata": {},
   "outputs": [],
   "source": [
    "# reorder the columns\n",
    "col_names = [\"id\",\"Name\",\"gender\",\"born\",\"category\",\"year\",\"country\",\"motivation\",\"share\",\"city\",\"bornCountry\",\"bornCity\",\"diedCountry\",\"diedCity\"]\n",
    "df = df.reindex(columns=col_names)"
   ]
  },
  {
   "cell_type": "code",
   "execution_count": 17,
   "id": "41b793ce",
   "metadata": {},
   "outputs": [],
   "source": [
    "# fill the Nan values in year and share column \n",
    "df[['year','share']] = df[['year','share']].fillna(df[['year','share']].mean())"
   ]
  },
  {
   "cell_type": "code",
   "execution_count": 18,
   "id": "1177e337",
   "metadata": {},
   "outputs": [],
   "source": [
    "# and then convert them to int datatype from float\n",
    "df[['year','share']] = df[['year','share']].astype('int')"
   ]
  },
  {
   "cell_type": "code",
   "execution_count": 19,
   "id": "33f00b35",
   "metadata": {},
   "outputs": [],
   "source": [
    "df.fillna({\"country\":\"Unknown\",\n",
    "          \"city\":\"Unknown\"\n",
    "          },inplace=True)"
   ]
  },
  {
   "cell_type": "code",
   "execution_count": 20,
   "id": "9301982e",
   "metadata": {},
   "outputs": [],
   "source": [
    "df.dropna(inplace=True)"
   ]
  },
  {
   "cell_type": "code",
   "execution_count": 21,
   "id": "5d71a2a6",
   "metadata": {},
   "outputs": [
    {
     "data": {
      "text/plain": [
       "id             0\n",
       "Name           0\n",
       "gender         0\n",
       "born           0\n",
       "category       0\n",
       "year           0\n",
       "country        0\n",
       "motivation     0\n",
       "share          0\n",
       "city           0\n",
       "bornCountry    0\n",
       "bornCity       0\n",
       "diedCountry    0\n",
       "diedCity       0\n",
       "dtype: int64"
      ]
     },
     "execution_count": 21,
     "metadata": {},
     "output_type": "execute_result"
    }
   ],
   "source": [
    "df.isnull().sum()"
   ]
  },
  {
   "cell_type": "code",
   "execution_count": 22,
   "id": "747b7036",
   "metadata": {},
   "outputs": [
    {
     "data": {
      "text/plain": [
       "id             7\n",
       "Name           7\n",
       "gender         7\n",
       "born           7\n",
       "category       7\n",
       "year           7\n",
       "country        7\n",
       "motivation     7\n",
       "share          7\n",
       "city           7\n",
       "bornCountry    7\n",
       "bornCity       7\n",
       "diedCountry    7\n",
       "diedCity       7\n",
       "dtype: int64"
      ]
     },
     "execution_count": 22,
     "metadata": {},
     "output_type": "execute_result"
    }
   ],
   "source": [
    "df.loc[(df.country==\"USA\")&(df.gender==\"female\")].count()"
   ]
  },
  {
   "cell_type": "code",
   "execution_count": 23,
   "id": "b620ec84",
   "metadata": {},
   "outputs": [],
   "source": [
    "################################################################ testing area ###################"
   ]
  },
  {
   "cell_type": "code",
   "execution_count": 24,
   "id": "d3ab5914",
   "metadata": {},
   "outputs": [],
   "source": [
    "#create copy of the dataset\n",
    "df1 = df.copy()"
   ]
  },
  {
   "cell_type": "code",
   "execution_count": 25,
   "id": "dec28076",
   "metadata": {},
   "outputs": [],
   "source": [
    "# now put columns inthe groups\n",
    "new=df1.groupby([\"Name\",\"country\",\"category\",\"year\"]).size()"
   ]
  },
  {
   "cell_type": "code",
   "execution_count": 26,
   "id": "07981102",
   "metadata": {},
   "outputs": [
    {
     "data": {
      "text/plain": [
       "Name                              country         category    year\n",
       "Aage Niels-Bohr                   Denmark         physics     1975    1\n",
       "Abdus-Salam                       Italy           physics     1979    1\n",
       "                                  United Kingdom  physics     1979    1\n",
       "Adolf Friedrich Johann-Butenandt  Germany         chemistry   1939    2\n",
       "Adolf Otto Reinhold-Windaus       Germany         chemistry   1928    1\n",
       "                                                                     ..\n",
       "Wolfgang-Pauli                    USA             physics     1945    1\n",
       "Yasunari-Kawabata                 Unknown         literature  1968    1\n",
       "Yitzhak-Rabin                     Unknown         peace       1994    1\n",
       "Yoichiro-Nambu                    USA             physics     2008    1\n",
       "Yves-Chauvin                      France          chemistry   2005    1\n",
       "Length: 516, dtype: int64"
      ]
     },
     "execution_count": 26,
     "metadata": {},
     "output_type": "execute_result"
    }
   ],
   "source": [
    "new"
   ]
  },
  {
   "cell_type": "code",
   "execution_count": 28,
   "id": "e5caa449",
   "metadata": {},
   "outputs": [
    {
     "data": {
      "text/plain": [
       "0                 Elinor-Ostrom\n",
       "1                 Elinor-Ostrom\n",
       "2          Wangari Muta-Maathai\n",
       "3      Dorothy Crowfoot-Hodgkin\n",
       "5            Barbara-McClintock\n",
       "                 ...           \n",
       "866               Harold-Pinter\n",
       "870               Jos_-Saramago\n",
       "872              Czeslaw-Milosz\n",
       "873              Naguib-Mahfouz\n",
       "874                Gônter-Grass\n",
       "Name: Name, Length: 532, dtype: object"
      ]
     },
     "execution_count": 28,
     "metadata": {},
     "output_type": "execute_result"
    }
   ],
   "source": [
    "a = df.loc[0: , [\"Name\",\"category\",\"country\"]]\n",
    "a['Name']"
   ]
  },
  {
   "cell_type": "code",
   "execution_count": 31,
   "id": "79b2920d",
   "metadata": {},
   "outputs": [
    {
     "data": {
      "text/plain": [
       "Index(['id', 'Name', 'gender', 'born', 'category', 'year', 'country',\n",
       "       'motivation', 'share', 'city', 'bornCountry', 'bornCity', 'diedCountry',\n",
       "       'diedCity'],\n",
       "      dtype='object')"
      ]
     },
     "execution_count": 31,
     "metadata": {},
     "output_type": "execute_result"
    }
   ],
   "source": [
    "df.columns"
   ]
  },
  {
   "cell_type": "code",
   "execution_count": 50,
   "id": "7f433770",
   "metadata": {},
   "outputs": [],
   "source": [
    "y1= df['country']"
   ]
  },
  {
   "cell_type": "code",
   "execution_count": 51,
   "id": "cc0f21f7",
   "metadata": {},
   "outputs": [],
   "source": [
    "y_position = np.arange(len(y1))"
   ]
  },
  {
   "cell_type": "code",
   "execution_count": 52,
   "id": "08adf5bc",
   "metadata": {},
   "outputs": [],
   "source": [
    "x1 = df['category']"
   ]
  },
  {
   "cell_type": "code",
   "execution_count": 82,
   "id": "d70689d3",
   "metadata": {},
   "outputs": [
    {
     "data": {
      "image/png": "[encoded data removed]",
      "text/plain": [
       "<Figure size 648x432 with 1 Axes>"
      ]
     },
     "metadata": {
      "needs_background": "light"
     },
     "output_type": "display_data"
    }
   ],
   "source": [
    "plt.figure(figsize=(9,6))\n",
    "plt.xlabel(\"Name\")\n",
    "plt.ylabel(\"No of Noble Prizes\")\n",
    "plt.title(\"Noble Prize winners \")\n",
    "plt.bar(x1,y_position)\n",
    "plt.grid()\n",
    "plt.show()"
   ]
  },
  {
   "cell_type": "markdown",
   "id": "aa57e06c",
   "metadata": {},
   "source": [
    "#### Pie Chart"
   ]
  },
  {
   "cell_type": "code",
   "execution_count": 72,
   "id": "61722ffd",
   "metadata": {},
   "outputs": [],
   "source": [
    "countries = df['country']\n",
    "no_of_prizes = np.arange(len(df['category']))"
   ]
  },
  {
   "cell_type": "code",
   "execution_count": 96,
   "id": "11bd696a",
   "metadata": {},
   "outputs": [
    {
     "data": {
      "image/png": "[encoded data removed]",
      "text/plain": [
       "<Figure size 1080x504 with 1 Axes>"
      ]
     },
     "metadata": {
      "needs_background": "light"
     },
     "output_type": "display_data"
    }
   ],
   "source": [
    "plt.figure(figsize=(15,7))\n",
    "plt.xlabel(\"Countries\")\n",
    "plt.ylabel(\"No of Noble Prize\")\n",
    "plt.title(\"Countries with No of Noble Prize\")\n",
    "plt.bar(countries,no_of_prizes,color='seagreen')\n",
    "plt.xticks(rotation=80)\n",
    "plt.show()"
   ]
  },
  {
   "cell_type": "code",
   "execution_count": null,
   "id": "c9f323f6",
   "metadata": {},
   "outputs": [],
   "source": []
  }
 ],
 "metadata": {
  "kernelspec": {
   "display_name": "Python 3 (ipykernel)",
   "language": "python",
   "name": "python3"
  },
  "language_info": {
   "codemirror_mode": {
    "name": "ipython",
    "version": 3
   },
   "file_extension": ".py",
   "mimetype": "text/x-python",
   "name": "python",
   "nbconvert_exporter": "python",
   "pygments_lexer": "ipython3",
   "version": "3.9.7"
  }
 },
 "nbformat": 4,
 "nbformat_minor": 5
}
