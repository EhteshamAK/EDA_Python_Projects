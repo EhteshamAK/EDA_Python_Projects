{
 "cells": [
  {
   "cell_type": "markdown",
   "id": "d3a87829",
   "metadata": {},
   "source": [
    "### Objective:\n",
    "\n",
    "The objective of this FIFA 21 cleaning dataset project is to preprocess and \n",
    "clean the FIFA 21 Complete Player Dataset, ensuring that the data is accurate, consistent, and ready  for further analysis. By performing data cleaning techniques such as handling missing values,   removing duplicates, standardizing column names, and addressing inconsistencies, we aim to create a high-quality dataset that can be used for insightful exploratory analysis, modeling, and other data-driven tasks related to FIFA 21 player attributes, nationalities, clubs, ages, values, and wages.\n",
    "\n",
    "[Fifa21 dataset](https://www.kaggle.com/datasets/stefanoleone992/fifa-21-complete-player-dataset)"
   ]
  },
  {
   "cell_type": "code",
   "execution_count": 1,
   "id": "439b321d",
   "metadata": {},
   "outputs": [],
   "source": [
    "import pandas as pd\n",
    "import numpy as np"
   ]
  },
  {
   "cell_type": "code",
   "execution_count": 2,
   "id": "50846820",
   "metadata": {},
   "outputs": [],
   "source": [
    "fifa21 = pd.read_csv(r\"C:\\Users\\Pc World Computers\\Downloads\\archive\\players_21.csv\")"
   ]
  },
  {
   "cell_type": "code",
   "execution_count": 3,
   "id": "465fc859",
   "metadata": {},
   "outputs": [
    {
     "data": {
      "text/html": [
       "<div>\n",
       "<style scoped>\n",
       "    .dataframe tbody tr th:only-of-type {\n",
       "        vertical-align: middle;\n",
       "    }\n",
       "\n",
       "    .dataframe tbody tr th {\n",
       "        vertical-align: top;\n",
       "    }\n",
       "\n",
       "    .dataframe thead th {\n",
       "        text-align: right;\n",
       "    }\n",
       "</style>\n",
       "<table border=\"1\" class=\"dataframe\">\n",
       "  <thead>\n",
       "    <tr style=\"text-align: right;\">\n",
       "      <th></th>\n",
       "      <th>sofifa_id</th>\n",
       "      <th>player_url</th>\n",
       "      <th>short_name</th>\n",
       "      <th>long_name</th>\n",
       "      <th>age</th>\n",
       "      <th>dob</th>\n",
       "      <th>height_cm</th>\n",
       "      <th>weight_kg</th>\n",
       "      <th>nationality</th>\n",
       "      <th>club_name</th>\n",
       "      <th>...</th>\n",
       "      <th>lwb</th>\n",
       "      <th>ldm</th>\n",
       "      <th>cdm</th>\n",
       "      <th>rdm</th>\n",
       "      <th>rwb</th>\n",
       "      <th>lb</th>\n",
       "      <th>lcb</th>\n",
       "      <th>cb</th>\n",
       "      <th>rcb</th>\n",
       "      <th>rb</th>\n",
       "    </tr>\n",
       "  </thead>\n",
       "  <tbody>\n",
       "    <tr>\n",
       "      <th>0</th>\n",
       "      <td>158023</td>\n",
       "      <td>https://sofifa.com/player/158023/lionel-messi/...</td>\n",
       "      <td>L. Messi</td>\n",
       "      <td>Lionel Andrés Messi Cuccittini</td>\n",
       "      <td>33</td>\n",
       "      <td>1987-06-24</td>\n",
       "      <td>170</td>\n",
       "      <td>72</td>\n",
       "      <td>Argentina</td>\n",
       "      <td>FC Barcelona</td>\n",
       "      <td>...</td>\n",
       "      <td>66+3</td>\n",
       "      <td>65+3</td>\n",
       "      <td>65+3</td>\n",
       "      <td>65+3</td>\n",
       "      <td>66+3</td>\n",
       "      <td>62+3</td>\n",
       "      <td>52+3</td>\n",
       "      <td>52+3</td>\n",
       "      <td>52+3</td>\n",
       "      <td>62+3</td>\n",
       "    </tr>\n",
       "    <tr>\n",
       "      <th>1</th>\n",
       "      <td>20801</td>\n",
       "      <td>https://sofifa.com/player/20801/c-ronaldo-dos-...</td>\n",
       "      <td>Cristiano Ronaldo</td>\n",
       "      <td>Cristiano Ronaldo dos Santos Aveiro</td>\n",
       "      <td>35</td>\n",
       "      <td>1985-02-05</td>\n",
       "      <td>187</td>\n",
       "      <td>83</td>\n",
       "      <td>Portugal</td>\n",
       "      <td>Juventus</td>\n",
       "      <td>...</td>\n",
       "      <td>65+3</td>\n",
       "      <td>61+3</td>\n",
       "      <td>61+3</td>\n",
       "      <td>61+3</td>\n",
       "      <td>65+3</td>\n",
       "      <td>61+3</td>\n",
       "      <td>54+3</td>\n",
       "      <td>54+3</td>\n",
       "      <td>54+3</td>\n",
       "      <td>61+3</td>\n",
       "    </tr>\n",
       "    <tr>\n",
       "      <th>2</th>\n",
       "      <td>200389</td>\n",
       "      <td>https://sofifa.com/player/200389/jan-oblak/210002</td>\n",
       "      <td>J. Oblak</td>\n",
       "      <td>Jan Oblak</td>\n",
       "      <td>27</td>\n",
       "      <td>1993-01-07</td>\n",
       "      <td>188</td>\n",
       "      <td>87</td>\n",
       "      <td>Slovenia</td>\n",
       "      <td>Atlético Madrid</td>\n",
       "      <td>...</td>\n",
       "      <td>32+3</td>\n",
       "      <td>36+3</td>\n",
       "      <td>36+3</td>\n",
       "      <td>36+3</td>\n",
       "      <td>32+3</td>\n",
       "      <td>32+3</td>\n",
       "      <td>33+3</td>\n",
       "      <td>33+3</td>\n",
       "      <td>33+3</td>\n",
       "      <td>32+3</td>\n",
       "    </tr>\n",
       "    <tr>\n",
       "      <th>3</th>\n",
       "      <td>188545</td>\n",
       "      <td>https://sofifa.com/player/188545/robert-lewand...</td>\n",
       "      <td>R. Lewandowski</td>\n",
       "      <td>Robert Lewandowski</td>\n",
       "      <td>31</td>\n",
       "      <td>1988-08-21</td>\n",
       "      <td>184</td>\n",
       "      <td>80</td>\n",
       "      <td>Poland</td>\n",
       "      <td>FC Bayern München</td>\n",
       "      <td>...</td>\n",
       "      <td>64+3</td>\n",
       "      <td>65+3</td>\n",
       "      <td>65+3</td>\n",
       "      <td>65+3</td>\n",
       "      <td>64+3</td>\n",
       "      <td>61+3</td>\n",
       "      <td>60+3</td>\n",
       "      <td>60+3</td>\n",
       "      <td>60+3</td>\n",
       "      <td>61+3</td>\n",
       "    </tr>\n",
       "    <tr>\n",
       "      <th>4</th>\n",
       "      <td>190871</td>\n",
       "      <td>https://sofifa.com/player/190871/neymar-da-sil...</td>\n",
       "      <td>Neymar Jr</td>\n",
       "      <td>Neymar da Silva Santos Júnior</td>\n",
       "      <td>28</td>\n",
       "      <td>1992-02-05</td>\n",
       "      <td>175</td>\n",
       "      <td>68</td>\n",
       "      <td>Brazil</td>\n",
       "      <td>Paris Saint-Germain</td>\n",
       "      <td>...</td>\n",
       "      <td>67+3</td>\n",
       "      <td>62+3</td>\n",
       "      <td>62+3</td>\n",
       "      <td>62+3</td>\n",
       "      <td>67+3</td>\n",
       "      <td>62+3</td>\n",
       "      <td>49+3</td>\n",
       "      <td>49+3</td>\n",
       "      <td>49+3</td>\n",
       "      <td>62+3</td>\n",
       "    </tr>\n",
       "  </tbody>\n",
       "</table>\n",
       "<p>5 rows × 106 columns</p>\n",
       "</div>"
      ],
      "text/plain": [
       "   sofifa_id                                         player_url  \\\n",
       "0     158023  https://sofifa.com/player/158023/lionel-messi/...   \n",
       "1      20801  https://sofifa.com/player/20801/c-ronaldo-dos-...   \n",
       "2     200389  https://sofifa.com/player/200389/jan-oblak/210002   \n",
       "3     188545  https://sofifa.com/player/188545/robert-lewand...   \n",
       "4     190871  https://sofifa.com/player/190871/neymar-da-sil...   \n",
       "\n",
       "          short_name                            long_name  age         dob  \\\n",
       "0           L. Messi       Lionel Andrés Messi Cuccittini   33  1987-06-24   \n",
       "1  Cristiano Ronaldo  Cristiano Ronaldo dos Santos Aveiro   35  1985-02-05   \n",
       "2           J. Oblak                            Jan Oblak   27  1993-01-07   \n",
       "3     R. Lewandowski                   Robert Lewandowski   31  1988-08-21   \n",
       "4          Neymar Jr        Neymar da Silva Santos Júnior   28  1992-02-05   \n",
       "\n",
       "   height_cm  weight_kg nationality            club_name  ...   lwb   ldm  \\\n",
       "0        170         72   Argentina         FC Barcelona  ...  66+3  65+3   \n",
       "1        187         83    Portugal             Juventus  ...  65+3  61+3   \n",
       "2        188         87    Slovenia      Atlético Madrid  ...  32+3  36+3   \n",
       "3        184         80      Poland    FC Bayern München  ...  64+3  65+3   \n",
       "4        175         68      Brazil  Paris Saint-Germain  ...  67+3  62+3   \n",
       "\n",
       "    cdm   rdm   rwb    lb   lcb    cb   rcb    rb  \n",
       "0  65+3  65+3  66+3  62+3  52+3  52+3  52+3  62+3  \n",
       "1  61+3  61+3  65+3  61+3  54+3  54+3  54+3  61+3  \n",
       "2  36+3  36+3  32+3  32+3  33+3  33+3  33+3  32+3  \n",
       "3  65+3  65+3  64+3  61+3  60+3  60+3  60+3  61+3  \n",
       "4  62+3  62+3  67+3  62+3  49+3  49+3  49+3  62+3  \n",
       "\n",
       "[5 rows x 106 columns]"
      ]
     },
     "execution_count": 3,
     "metadata": {},
     "output_type": "execute_result"
    }
   ],
   "source": [
    "fifa21.head()"
   ]
  },
  {
   "cell_type": "code",
   "execution_count": 4,
   "id": "013dde31",
   "metadata": {},
   "outputs": [
    {
     "name": "stdout",
     "output_type": "stream",
     "text": [
      "Rows 18944 : Columns 106\n"
     ]
    }
   ],
   "source": [
    "#check the dimension of the dataset\n",
    "dimensions = fifa21.shape\n",
    "print(\"Rows\",dimensions[0],\": Columns\",dimensions[1])"
   ]
  },
  {
   "cell_type": "code",
   "execution_count": 5,
   "id": "e6267a29",
   "metadata": {},
   "outputs": [
    {
     "data": {
      "text/plain": [
       "sofifa_id      int64\n",
       "player_url    object\n",
       "short_name    object\n",
       "long_name     object\n",
       "age            int64\n",
       "               ...  \n",
       "lb            object\n",
       "lcb           object\n",
       "cb            object\n",
       "rcb           object\n",
       "rb            object\n",
       "Length: 106, dtype: object"
      ]
     },
     "execution_count": 5,
     "metadata": {},
     "output_type": "execute_result"
    }
   ],
   "source": [
    "#check the datatype of the dataset\n",
    "fifa21.dtypes"
   ]
  },
  {
   "cell_type": "code",
   "execution_count": 6,
   "id": "0ad81118",
   "metadata": {},
   "outputs": [
    {
     "data": {
      "text/plain": [
       "sofifa_id     0\n",
       "player_url    0\n",
       "short_name    0\n",
       "long_name     0\n",
       "age           0\n",
       "             ..\n",
       "lb            0\n",
       "lcb           0\n",
       "cb            0\n",
       "rcb           0\n",
       "rb            0\n",
       "Length: 106, dtype: int64"
      ]
     },
     "execution_count": 6,
     "metadata": {},
     "output_type": "execute_result"
    }
   ],
   "source": [
    "missing_values = fifa21.isnull().sum()\n",
    "missing_values"
   ]
  },
  {
   "cell_type": "markdown",
   "id": "29396f18",
   "metadata": {},
   "source": [
    "### Drop columns with a high percentage of missing values (>=80%)"
   ]
  },
  {
   "cell_type": "code",
   "execution_count": 7,
   "id": "ebefb458",
   "metadata": {},
   "outputs": [],
   "source": [
    "threshold = 0.8  # drop columns with 80% missing values\n",
    "fifa21.dropna(thresh = threshold*len(fifa21),axis=1,inplace=True)"
   ]
  },
  {
   "cell_type": "code",
   "execution_count": 8,
   "id": "316c464c",
   "metadata": {},
   "outputs": [],
   "source": [
    "# remove duplicates\n",
    "fifa21.drop_duplicates(inplace=True)"
   ]
  },
  {
   "cell_type": "code",
   "execution_count": 9,
   "id": "64b8cbfb",
   "metadata": {},
   "outputs": [],
   "source": [
    "# standarise column names\n",
    "fifa21.columns = fifa21.columns.str.lower().str.replace(\" \",\"_\")"
   ]
  },
  {
   "cell_type": "code",
   "execution_count": 10,
   "id": "1d86c442",
   "metadata": {},
   "outputs": [
    {
     "name": "stdout",
     "output_type": "stream",
     "text": [
      "sofifa_id                        0\n",
      "player_url                       0\n",
      "short_name                       0\n",
      "long_name                        0\n",
      "age                              0\n",
      "dob                              0\n",
      "height_cm                        0\n",
      "weight_kg                        0\n",
      "nationality                      0\n",
      "club_name                      225\n",
      "league_name                    225\n",
      "league_rank                    225\n",
      "overall                          0\n",
      "potential                        0\n",
      "value_eur                        0\n",
      "wage_eur                         0\n",
      "player_positions                 0\n",
      "preferred_foot                   0\n",
      "international_reputation         0\n",
      "weak_foot                        0\n",
      "skill_moves                      0\n",
      "work_rate                        0\n",
      "body_type                        0\n",
      "real_face                        0\n",
      "release_clause_eur             995\n",
      "team_position                  225\n",
      "team_jersey_number             225\n",
      "joined                         983\n",
      "contract_valid_until           225\n",
      "pace                          2083\n",
      "shooting                      2083\n",
      "passing                       2083\n",
      "dribbling                     2083\n",
      "defending                     2083\n",
      "physic                        2083\n",
      "attacking_crossing               0\n",
      "attacking_finishing              0\n",
      "attacking_heading_accuracy       0\n",
      "attacking_short_passing          0\n",
      "attacking_volleys                0\n",
      "skill_dribbling                  0\n",
      "skill_curve                      0\n",
      "skill_fk_accuracy                0\n",
      "skill_long_passing               0\n",
      "skill_ball_control               0\n",
      "movement_acceleration            0\n",
      "movement_sprint_speed            0\n",
      "movement_agility                 0\n",
      "movement_reactions               0\n",
      "movement_balance                 0\n",
      "power_shot_power                 0\n",
      "power_jumping                    0\n",
      "power_stamina                    0\n",
      "power_strength                   0\n",
      "power_long_shots                 0\n",
      "mentality_aggression             0\n",
      "mentality_interceptions          0\n",
      "mentality_positioning            0\n",
      "mentality_vision                 0\n",
      "mentality_penalties              0\n",
      "mentality_composure              0\n",
      "defending_standing_tackle        0\n",
      "defending_sliding_tackle         0\n",
      "goalkeeping_diving               0\n",
      "goalkeeping_handling             0\n",
      "goalkeeping_kicking              0\n",
      "goalkeeping_positioning          0\n",
      "goalkeeping_reflexes             0\n",
      "ls                               0\n",
      "st                               0\n",
      "rs                               0\n",
      "lw                               0\n",
      "lf                               0\n",
      "cf                               0\n",
      "rf                               0\n",
      "rw                               0\n",
      "lam                              0\n",
      "cam                              0\n",
      "ram                              0\n",
      "lm                               0\n",
      "lcm                              0\n",
      "cm                               0\n",
      "rcm                              0\n",
      "rm                               0\n",
      "lwb                              0\n",
      "ldm                              0\n",
      "cdm                              0\n",
      "rdm                              0\n",
      "rwb                              0\n",
      "lb                               0\n",
      "lcb                              0\n",
      "cb                               0\n",
      "rcb                              0\n",
      "rb                               0\n"
     ]
    }
   ],
   "source": [
    "# check for the missing values\n",
    "missing_values = fifa21.isnull().sum()\n",
    "print(missing_values.to_string())"
   ]
  },
  {
   "cell_type": "code",
   "execution_count": 11,
   "id": "1907afc6",
   "metadata": {},
   "outputs": [],
   "source": [
    "# drop rows with missing values in specific columns\n",
    "columns_to_check = ['release_clause_eur','team_position','team_jersey_number','joined','contract_valid_until'\n",
    ",'pace','shooting','passing','dribbling','defending','physic']\n",
    "fifa21.dropna(subset=columns_to_check,inplace=True)"
   ]
  },
  {
   "cell_type": "markdown",
   "id": "dc7376ea",
   "metadata": {},
   "source": [
    "### Convert data types of columns"
   ]
  },
  {
   "cell_type": "code",
   "execution_count": 12,
   "id": "c10495de",
   "metadata": {},
   "outputs": [],
   "source": [
    "#convert dattypes of float to int\n",
    "numeric_columns = ['pace', 'shooting','passing','dribbling','defending','physic','league_rank','release_clause_eur',\n",
    "                  'team_jersey_number','contract_valid_until']\n",
    "fifa21[numeric_columns] = fifa21[numeric_columns].astype('int64')#apply(pd.to_numeric, errors='coerce')"
   ]
  },
  {
   "cell_type": "code",
   "execution_count": 13,
   "id": "6da2ab2c",
   "metadata": {},
   "outputs": [
    {
     "name": "stdout",
     "output_type": "stream",
     "text": [
      "<class 'pandas.core.frame.DataFrame'>\n",
      "Int64Index: 15959 entries, 0 to 18943\n",
      "Data columns (total 94 columns):\n",
      " #   Column                      Non-Null Count  Dtype \n",
      "---  ------                      --------------  ----- \n",
      " 0   sofifa_id                   15959 non-null  int64 \n",
      " 1   player_url                  15959 non-null  object\n",
      " 2   short_name                  15959 non-null  object\n",
      " 3   long_name                   15959 non-null  object\n",
      " 4   age                         15959 non-null  int64 \n",
      " 5   dob                         15959 non-null  object\n",
      " 6   height_cm                   15959 non-null  int64 \n",
      " 7   weight_kg                   15959 non-null  int64 \n",
      " 8   nationality                 15959 non-null  object\n",
      " 9   club_name                   15959 non-null  object\n",
      " 10  league_name                 15959 non-null  object\n",
      " 11  league_rank                 15959 non-null  int64 \n",
      " 12  overall                     15959 non-null  int64 \n",
      " 13  potential                   15959 non-null  int64 \n",
      " 14  value_eur                   15959 non-null  int64 \n",
      " 15  wage_eur                    15959 non-null  int64 \n",
      " 16  player_positions            15959 non-null  object\n",
      " 17  preferred_foot              15959 non-null  object\n",
      " 18  international_reputation    15959 non-null  int64 \n",
      " 19  weak_foot                   15959 non-null  int64 \n",
      " 20  skill_moves                 15959 non-null  int64 \n",
      " 21  work_rate                   15959 non-null  object\n",
      " 22  body_type                   15959 non-null  object\n",
      " 23  real_face                   15959 non-null  object\n",
      " 24  release_clause_eur          15959 non-null  int64 \n",
      " 25  team_position               15959 non-null  object\n",
      " 26  team_jersey_number          15959 non-null  int64 \n",
      " 27  joined                      15959 non-null  object\n",
      " 28  contract_valid_until        15959 non-null  int64 \n",
      " 29  pace                        15959 non-null  int64 \n",
      " 30  shooting                    15959 non-null  int64 \n",
      " 31  passing                     15959 non-null  int64 \n",
      " 32  dribbling                   15959 non-null  int64 \n",
      " 33  defending                   15959 non-null  int64 \n",
      " 34  physic                      15959 non-null  int64 \n",
      " 35  attacking_crossing          15959 non-null  int64 \n",
      " 36  attacking_finishing         15959 non-null  int64 \n",
      " 37  attacking_heading_accuracy  15959 non-null  int64 \n",
      " 38  attacking_short_passing     15959 non-null  int64 \n",
      " 39  attacking_volleys           15959 non-null  int64 \n",
      " 40  skill_dribbling             15959 non-null  int64 \n",
      " 41  skill_curve                 15959 non-null  int64 \n",
      " 42  skill_fk_accuracy           15959 non-null  int64 \n",
      " 43  skill_long_passing          15959 non-null  int64 \n",
      " 44  skill_ball_control          15959 non-null  int64 \n",
      " 45  movement_acceleration       15959 non-null  int64 \n",
      " 46  movement_sprint_speed       15959 non-null  int64 \n",
      " 47  movement_agility            15959 non-null  int64 \n",
      " 48  movement_reactions          15959 non-null  int64 \n",
      " 49  movement_balance            15959 non-null  int64 \n",
      " 50  power_shot_power            15959 non-null  int64 \n",
      " 51  power_jumping               15959 non-null  int64 \n",
      " 52  power_stamina               15959 non-null  int64 \n",
      " 53  power_strength              15959 non-null  int64 \n",
      " 54  power_long_shots            15959 non-null  int64 \n",
      " 55  mentality_aggression        15959 non-null  int64 \n",
      " 56  mentality_interceptions     15959 non-null  int64 \n",
      " 57  mentality_positioning       15959 non-null  int64 \n",
      " 58  mentality_vision            15959 non-null  int64 \n",
      " 59  mentality_penalties         15959 non-null  int64 \n",
      " 60  mentality_composure         15959 non-null  int64 \n",
      " 61  defending_standing_tackle   15959 non-null  int64 \n",
      " 62  defending_sliding_tackle    15959 non-null  int64 \n",
      " 63  goalkeeping_diving          15959 non-null  int64 \n",
      " 64  goalkeeping_handling        15959 non-null  int64 \n",
      " 65  goalkeeping_kicking         15959 non-null  int64 \n",
      " 66  goalkeeping_positioning     15959 non-null  int64 \n",
      " 67  goalkeeping_reflexes        15959 non-null  int64 \n",
      " 68  ls                          15959 non-null  object\n",
      " 69  st                          15959 non-null  object\n",
      " 70  rs                          15959 non-null  object\n",
      " 71  lw                          15959 non-null  object\n",
      " 72  lf                          15959 non-null  object\n",
      " 73  cf                          15959 non-null  object\n",
      " 74  rf                          15959 non-null  object\n",
      " 75  rw                          15959 non-null  object\n",
      " 76  lam                         15959 non-null  object\n",
      " 77  cam                         15959 non-null  object\n",
      " 78  ram                         15959 non-null  object\n",
      " 79  lm                          15959 non-null  object\n",
      " 80  lcm                         15959 non-null  object\n",
      " 81  cm                          15959 non-null  object\n",
      " 82  rcm                         15959 non-null  object\n",
      " 83  rm                          15959 non-null  object\n",
      " 84  lwb                         15959 non-null  object\n",
      " 85  ldm                         15959 non-null  object\n",
      " 86  cdm                         15959 non-null  object\n",
      " 87  rdm                         15959 non-null  object\n",
      " 88  rwb                         15959 non-null  object\n",
      " 89  lb                          15959 non-null  object\n",
      " 90  lcb                         15959 non-null  object\n",
      " 91  cb                          15959 non-null  object\n",
      " 92  rcb                         15959 non-null  object\n",
      " 93  rb                          15959 non-null  object\n",
      "dtypes: int64(54), object(40)\n",
      "memory usage: 11.6+ MB\n"
     ]
    }
   ],
   "source": [
    "fifa21.info()"
   ]
  },
  {
   "cell_type": "code",
   "execution_count": 14,
   "id": "0ea9fed1",
   "metadata": {},
   "outputs": [],
   "source": [
    "# Now select the required column and saved in csv format\n",
    "selected_columns= ['sofifa_id','short_name','long_name','age','dob','height_cm','weight_kg','nationality',\n",
    "                  'club_name','league_rank','league_name','value_eur','wage_eur','international_reputation',\n",
    "                  'team_position','team_jersey_number','joined','contract_valid_until','pace','overall']\n",
    "fifa21_selected = fifa21[selected_columns]"
   ]
  },
  {
   "cell_type": "code",
   "execution_count": 15,
   "id": "f21785c3",
   "metadata": {},
   "outputs": [],
   "source": [
    "fifa21_selected.to_csv(\"cleaned_fifa21.csv\")"
   ]
  },
  {
   "cell_type": "markdown",
   "id": "7c9fbe96",
   "metadata": {},
   "source": [
    "## Guiding questions to explore the fifa21 dataset\n",
    "\n",
    "### 1. Player Analysis:\n",
    "- Who are the top 10 players with the highest overall rating?\n",
    "- Which player has the highest potential?\n",
    "- Which player is the oldest and youngest in the dataset?\n",
    "- Which country has the most players in the dataset?\n",
    "- Which club has the highest number of players?"
   ]
  },
  {
   "cell_type": "code",
   "execution_count": 16,
   "id": "b9876db0",
   "metadata": {},
   "outputs": [
    {
     "data": {
      "text/html": [
       "<div>\n",
       "<style scoped>\n",
       "    .dataframe tbody tr th:only-of-type {\n",
       "        vertical-align: middle;\n",
       "    }\n",
       "\n",
       "    .dataframe tbody tr th {\n",
       "        vertical-align: top;\n",
       "    }\n",
       "\n",
       "    .dataframe thead th {\n",
       "        text-align: right;\n",
       "    }\n",
       "</style>\n",
       "<table border=\"1\" class=\"dataframe\">\n",
       "  <thead>\n",
       "    <tr style=\"text-align: right;\">\n",
       "      <th></th>\n",
       "      <th>short_name</th>\n",
       "      <th>overall</th>\n",
       "    </tr>\n",
       "  </thead>\n",
       "  <tbody>\n",
       "    <tr>\n",
       "      <th>0</th>\n",
       "      <td>L. Messi</td>\n",
       "      <td>93</td>\n",
       "    </tr>\n",
       "    <tr>\n",
       "      <th>1</th>\n",
       "      <td>Cristiano Ronaldo</td>\n",
       "      <td>92</td>\n",
       "    </tr>\n",
       "    <tr>\n",
       "      <th>3</th>\n",
       "      <td>R. Lewandowski</td>\n",
       "      <td>91</td>\n",
       "    </tr>\n",
       "    <tr>\n",
       "      <th>4</th>\n",
       "      <td>Neymar Jr</td>\n",
       "      <td>91</td>\n",
       "    </tr>\n",
       "    <tr>\n",
       "      <th>5</th>\n",
       "      <td>K. De Bruyne</td>\n",
       "      <td>91</td>\n",
       "    </tr>\n",
       "    <tr>\n",
       "      <th>6</th>\n",
       "      <td>K. Mbappé</td>\n",
       "      <td>90</td>\n",
       "    </tr>\n",
       "    <tr>\n",
       "      <th>8</th>\n",
       "      <td>V. van Dijk</td>\n",
       "      <td>90</td>\n",
       "    </tr>\n",
       "    <tr>\n",
       "      <th>10</th>\n",
       "      <td>S. Mané</td>\n",
       "      <td>90</td>\n",
       "    </tr>\n",
       "    <tr>\n",
       "      <th>11</th>\n",
       "      <td>M. Salah</td>\n",
       "      <td>90</td>\n",
       "    </tr>\n",
       "    <tr>\n",
       "      <th>13</th>\n",
       "      <td>S. Agüero</td>\n",
       "      <td>89</td>\n",
       "    </tr>\n",
       "  </tbody>\n",
       "</table>\n",
       "</div>"
      ],
      "text/plain": [
       "           short_name  overall\n",
       "0            L. Messi       93\n",
       "1   Cristiano Ronaldo       92\n",
       "3      R. Lewandowski       91\n",
       "4           Neymar Jr       91\n",
       "5        K. De Bruyne       91\n",
       "6           K. Mbappé       90\n",
       "8         V. van Dijk       90\n",
       "10            S. Mané       90\n",
       "11           M. Salah       90\n",
       "13          S. Agüero       89"
      ]
     },
     "execution_count": 16,
     "metadata": {},
     "output_type": "execute_result"
    }
   ],
   "source": [
    "# Who are top ten players with the highest rating?\n",
    "top_10_players = fifa21.nlargest(10, 'overall')\n",
    "top_10_players[['short_name','overall']]"
   ]
  },
  {
   "cell_type": "code",
   "execution_count": 17,
   "id": "c85f46b5",
   "metadata": {},
   "outputs": [
    {
     "name": "stdout",
     "output_type": "stream",
     "text": [
      "short_name    K. Mbappé\n",
      "age                  21\n",
      "Name: 6, dtype: object\n"
     ]
    }
   ],
   "source": [
    "# Which player has the highest potential\n",
    "highest_potential_player = fifa21.loc[fifa21['potential'].idxmax()]\n",
    "print(highest_potential_player[['short_name','age']])"
   ]
  },
  {
   "cell_type": "code",
   "execution_count": 18,
   "id": "6bfe07ba",
   "metadata": {},
   "outputs": [
    {
     "name": "stdout",
     "output_type": "stream",
     "text": [
      "Oldest_Player :  short_name    J. Sand\n",
      "age                39\n",
      "Name: 1781, dtype: object\n",
      "Youngest_Player :  short_name    R. Cherki\n",
      "age                  16\n",
      "Name: 7314, dtype: object\n"
     ]
    }
   ],
   "source": [
    "#which player is the olderst and youngest in the dataset\n",
    "oldest_player = fifa21.loc[fifa21['age'].idxmax()]\n",
    "print(\"Oldest_Player : \",oldest_player[['short_name','age']])\n",
    "\n",
    "youngest_player = fifa21.loc[fifa21['age'].idxmin()]\n",
    "print(\"Youngest_Player : \",youngest_player[['short_name','age']])"
   ]
  },
  {
   "cell_type": "code",
   "execution_count": 19,
   "id": "4785040b",
   "metadata": {},
   "outputs": [
    {
     "name": "stdout",
     "output_type": "stream",
     "text": [
      "Country_with_most_players :  England\n"
     ]
    }
   ],
   "source": [
    "# Which country has the most players in the dataset?\n",
    "country_with_most_players = fifa21['nationality'].value_counts().idxmax()\n",
    "print(\"Country_with_most_players : \",country_with_most_players)"
   ]
  },
  {
   "cell_type": "code",
   "execution_count": 20,
   "id": "773ca95f",
   "metadata": {},
   "outputs": [
    {
     "data": {
      "text/plain": [
       "'FC Barcelona'"
      ]
     },
     "execution_count": 20,
     "metadata": {},
     "output_type": "execute_result"
    }
   ],
   "source": [
    "# Which club has the highest number of players\n",
    "club_with_most_players = fifa21['club_name'].value_counts().idxmax()\n",
    "club_with_most_players"
   ]
  },
  {
   "cell_type": "markdown",
   "id": "a4776d5a",
   "metadata": {},
   "source": [
    "\n",
    "### 2. Nationality Analysis:\n",
    "- Which nationality has the highest average overall rating?\n",
    "- Which nationality has the most players with a potential greater than 90?\n",
    "- Which nationality has the highest average wage?\n",
    "- Is there a correlation between a player's nationality and their market value?"
   ]
  },
  {
   "cell_type": "code",
   "execution_count": 21,
   "id": "1ff0c549",
   "metadata": {},
   "outputs": [
    {
     "data": {
      "text/plain": [
       "nationality\n",
       "Afghanistan    66.000000\n",
       "Albania        64.617021\n",
       "Algeria        71.000000\n",
       "Andorra        62.000000\n",
       "Angola         69.785714\n",
       "                 ...    \n",
       "Uzbekistan     62.833333\n",
       "Venezuela      61.408284\n",
       "Wales          63.130000\n",
       "Zambia         67.000000\n",
       "Zimbabwe       69.000000\n",
       "Name: overall, Length: 160, dtype: float64"
      ]
     },
     "execution_count": 21,
     "metadata": {},
     "output_type": "execute_result"
    }
   ],
   "source": [
    "avg_nationality_rating = fifa21.groupby('nationality')['overall'].mean()\n",
    "avg_nationality_rating"
   ]
  },
  {
   "cell_type": "code",
   "execution_count": 22,
   "id": "9042a947",
   "metadata": {},
   "outputs": [
    {
     "data": {
      "text/plain": [
       "'Tanzania'"
      ]
     },
     "execution_count": 22,
     "metadata": {},
     "output_type": "execute_result"
    }
   ],
   "source": [
    "# which nationality has the highest overall rating?\n",
    "nationality_with_highest_avg_rating = avg_nationality_rating.idxmax()\n",
    "nationality_with_highest_avg_rating"
   ]
  },
  {
   "cell_type": "code",
   "execution_count": 23,
   "id": "54a59479",
   "metadata": {},
   "outputs": [
    {
     "data": {
      "text/plain": [
       "'Portugal'"
      ]
     },
     "execution_count": 23,
     "metadata": {},
     "output_type": "execute_result"
    }
   ],
   "source": [
    "# Which nationality has the most players with a potential greater than 90?\n",
    "nationality_with_most_high_potential_players = fifa21.loc[fifa21['potential'] > 90, 'nationality'].value_counts().idxmax()\n",
    "nationality_with_most_high_potential_players"
   ]
  },
  {
   "cell_type": "code",
   "execution_count": 24,
   "id": "4cbcb136",
   "metadata": {},
   "outputs": [
    {
     "data": {
      "text/plain": [
       "'Tanzania'"
      ]
     },
     "execution_count": 24,
     "metadata": {},
     "output_type": "execute_result"
    }
   ],
   "source": [
    "# Which nationality has the highest average wage?\n",
    "avg_wage_by_nationality = fifa21.groupby(\"nationality\")['wage_eur'].mean()\n",
    "nationality_with_highest_average_wage = avg_wage_by_nationality.idxmax()\n",
    "nationality_with_highest_average_wage"
   ]
  },
  {
   "cell_type": "code",
   "execution_count": 25,
   "id": "4344db8e",
   "metadata": {},
   "outputs": [
    {
     "name": "stdout",
     "output_type": "stream",
     "text": [
      "Correlation between Nationality and Market Value: 0.1620369763985973\n"
     ]
    }
   ],
   "source": [
    "# Is there a correlation between a player's nationality and their market value?\n",
    "\n",
    "# Calculate the correlation between nationality and market value\n",
    "correlation_nationality_value = fifa21.groupby('nationality')['value_eur'].mean().corr(fifa21.groupby('nationality')['value_eur'].count())\n",
    "\n",
    "# Display the correlation coefficient\n",
    "print(\"Correlation between Nationality and Market Value:\", correlation_nationality_value)"
   ]
  },
  {
   "cell_type": "markdown",
   "id": "0273a76f",
   "metadata": {},
   "source": [
    "> There is a weak correlation between the natioality and market value"
   ]
  },
  {
   "cell_type": "markdown",
   "id": "30744400",
   "metadata": {},
   "source": [
    "\n",
    "### 3. Club Analysis:\n",
    "- Which club has the highest average overall rating for its players?\n",
    "- Which club has the highest average potential for its players?\n",
    "- Which club spends the most on player wages?"
   ]
  },
  {
   "cell_type": "code",
   "execution_count": 26,
   "id": "81ffefe5",
   "metadata": {},
   "outputs": [
    {
     "data": {
      "text/plain": [
       "'FC Bayern München'"
      ]
     },
     "execution_count": 26,
     "metadata": {},
     "output_type": "execute_result"
    }
   ],
   "source": [
    "# which club has the highest average overall rating for its players?\n",
    "avg_rating_by_club = fifa21.groupby('club_name')['overall'].mean()\n",
    "club_with_highest_avg_rating = avg_rating_by_club.idxmax()\n",
    "club_with_highest_avg_rating"
   ]
  },
  {
   "cell_type": "code",
   "execution_count": 27,
   "id": "0d34d77b",
   "metadata": {},
   "outputs": [
    {
     "data": {
      "text/plain": [
       "'FC Bayern München'"
      ]
     },
     "execution_count": 27,
     "metadata": {},
     "output_type": "execute_result"
    }
   ],
   "source": [
    "# Which club has the highest average potential for its players?\n",
    "avg_potential_by_club = fifa21.groupby('club_name')['potential'].mean()\n",
    "club_with_highest_avg_potential = avg_potential_by_club.idxmax()\n",
    "club_with_highest_avg_potential"
   ]
  },
  {
   "cell_type": "code",
   "execution_count": 28,
   "id": "ad784825",
   "metadata": {},
   "outputs": [
    {
     "data": {
      "text/plain": [
       "'Real Madrid'"
      ]
     },
     "execution_count": 28,
     "metadata": {},
     "output_type": "execute_result"
    }
   ],
   "source": [
    "# Which club spends the most on player wages?\n",
    "club_spending_most_on_wages = fifa21.groupby('club_name')['wage_eur'].sum().idxmax()\n",
    "club_spending_most_on_wages"
   ]
  },
  {
   "cell_type": "markdown",
   "id": "9ca23e1b",
   "metadata": {},
   "source": [
    "### 4. Age Analysis:\n",
    "- What is the distribution of player ages in the dataset?\n",
    "- How does a player's age correlate with their overall rating and potential?\n",
    "- Are there any age groups that dominate the highest-rated players?"
   ]
  },
  {
   "cell_type": "code",
   "execution_count": 29,
   "id": "df0babf8",
   "metadata": {},
   "outputs": [
    {
     "name": "stdout",
     "output_type": "stream",
     "text": [
      "16      24\n",
      "17     240\n",
      "18     577\n",
      "19     860\n",
      "20    1199\n",
      "21    1165\n",
      "22    1215\n",
      "23    1217\n",
      "24    1228\n",
      "25    1095\n",
      "26    1098\n",
      "27    1040\n",
      "28    1119\n",
      "29     890\n",
      "30     793\n",
      "31     646\n",
      "32     522\n",
      "33     387\n",
      "34     279\n",
      "35     162\n",
      "36     110\n",
      "37      43\n",
      "38      36\n",
      "39      14\n",
      "Name: age, dtype: int64\n"
     ]
    }
   ],
   "source": [
    "# What is the distribution of player ages in the dataset?\n",
    "age_distribution = fifa21['age'].value_counts().sort_index()\n",
    "print(age_distribution)"
   ]
  },
  {
   "cell_type": "code",
   "execution_count": 30,
   "id": "48c60722",
   "metadata": {},
   "outputs": [
    {
     "data": {
      "text/plain": [
       "0.47149861363403667"
      ]
     },
     "execution_count": 30,
     "metadata": {},
     "output_type": "execute_result"
    }
   ],
   "source": [
    "# How does a player's age correlate with their overall rating?\n",
    "correlation_age_overall = fifa21['age'].corr(fifa21['overall'])\n",
    "correlation_age_overall"
   ]
  },
  {
   "cell_type": "markdown",
   "id": "221eda7a",
   "metadata": {},
   "source": [
    "> This indicates a moderate correlatin between age and player rating."
   ]
  },
  {
   "cell_type": "code",
   "execution_count": 31,
   "id": "dc1480f6",
   "metadata": {},
   "outputs": [
    {
     "data": {
      "text/plain": [
       "-0.2678865683533266"
      ]
     },
     "execution_count": 31,
     "metadata": {},
     "output_type": "execute_result"
    }
   ],
   "source": [
    "# How does a player's age correlate with their overall potential?\n",
    "correlation_age_potential = fifa21['age'].corr(fifa21['potential'])\n",
    "correlation_age_potential"
   ]
  },
  {
   "cell_type": "markdown",
   "id": "3b536877",
   "metadata": {},
   "source": [
    "> This indicates a negative weak correlation"
   ]
  },
  {
   "cell_type": "code",
   "execution_count": 32,
   "id": "d60a164a",
   "metadata": {},
   "outputs": [
    {
     "data": {
      "text/plain": [
       "28"
      ]
     },
     "execution_count": 32,
     "metadata": {},
     "output_type": "execute_result"
    }
   ],
   "source": [
    "# Are there any age groups that dominate the highest-rated players?\n",
    "oldest_age_group_top_rating = fifa21[fifa21['overall'] >= 90]['age'].value_counts().idxmax()\n",
    "oldest_age_group_top_rating "
   ]
  },
  {
   "cell_type": "markdown",
   "id": "7e366c36",
   "metadata": {},
   "source": [
    "### 5. Value and Wage Analysis:\n",
    "\n",
    "- What is the distribution of player values and wages?\n",
    "- Which players have the highest market values and wages?\n",
    "- Is there a correlation between a player's overall rating and their value/wage?"
   ]
  },
  {
   "cell_type": "code",
   "execution_count": 33,
   "id": "12111a17",
   "metadata": {},
   "outputs": [
    {
     "name": "stdout",
     "output_type": "stream",
     "text": [
      "20000          4\n",
      "25000          4\n",
      "30000          7\n",
      "35000         12\n",
      "40000         23\n",
      "45000         41\n",
      "50000         56\n",
      "60000        149\n",
      "70000         94\n",
      "80000        126\n",
      "90000         97\n",
      "100000       151\n",
      "110000       162\n",
      "120000       152\n",
      "130000       182\n",
      "140000       195\n",
      "150000       178\n",
      "160000       176\n",
      "170000       159\n",
      "180000       155\n",
      "190000       145\n",
      "200000       174\n",
      "210000       146\n",
      "220000       127\n",
      "230000       141\n",
      "240000       118\n",
      "250000       259\n",
      "275000       345\n",
      "300000       294\n",
      "325000       354\n",
      "350000       337\n",
      "375000       311\n",
      "400000       268\n",
      "425000       283\n",
      "450000       341\n",
      "475000       328\n",
      "500000       230\n",
      "525000       287\n",
      "550000       312\n",
      "575000       221\n",
      "600000       210\n",
      "625000       256\n",
      "650000       278\n",
      "675000       228\n",
      "700000       130\n",
      "725000       171\n",
      "750000       249\n",
      "775000       186\n",
      "800000       227\n",
      "825000       125\n",
      "850000       140\n",
      "875000       145\n",
      "900000       198\n",
      "925000       148\n",
      "950000       128\n",
      "975000        84\n",
      "1000000      296\n",
      "1100000      414\n",
      "1200000      272\n",
      "1300000      199\n",
      "1400000      178\n",
      "1500000      148\n",
      "1600000      110\n",
      "1700000      107\n",
      "1800000      146\n",
      "1900000      116\n",
      "2000000      106\n",
      "2100000       87\n",
      "2200000       83\n",
      "2300000       88\n",
      "2400000      110\n",
      "2500000       85\n",
      "2600000       82\n",
      "2700000       89\n",
      "2800000       76\n",
      "2900000       58\n",
      "3000000       94\n",
      "3100000      102\n",
      "3200000       79\n",
      "3300000       57\n",
      "3400000       65\n",
      "3500000       52\n",
      "3600000       45\n",
      "3700000       55\n",
      "3800000       50\n",
      "3900000       73\n",
      "4000000       44\n",
      "4100000       37\n",
      "4200000       45\n",
      "4300000       47\n",
      "4400000       49\n",
      "4500000       19\n",
      "4600000       39\n",
      "4700000       36\n",
      "4800000       46\n",
      "4900000       42\n",
      "5000000       63\n",
      "5500000      180\n",
      "6000000      113\n",
      "6500000      159\n",
      "7000000      108\n",
      "7500000      119\n",
      "8000000      127\n",
      "8500000      108\n",
      "9000000      111\n",
      "9500000       70\n",
      "10000000      68\n",
      "10500000      80\n",
      "11000000      50\n",
      "11500000      38\n",
      "12000000      54\n",
      "12500000      33\n",
      "13000000      32\n",
      "13500000      20\n",
      "14000000      30\n",
      "14500000      26\n",
      "15000000      27\n",
      "15500000      19\n",
      "16000000      14\n",
      "16500000      15\n",
      "17000000      17\n",
      "17500000      15\n",
      "18000000      11\n",
      "18500000      14\n",
      "19000000      11\n",
      "19500000      11\n",
      "20000000      11\n",
      "20500000      12\n",
      "21000000      11\n",
      "21500000       6\n",
      "22000000       7\n",
      "22500000       9\n",
      "23000000       7\n",
      "23500000       3\n",
      "24000000       5\n",
      "24500000       7\n",
      "25000000       5\n",
      "25500000       5\n",
      "26000000       9\n",
      "26500000       5\n",
      "27000000       8\n",
      "27500000       6\n",
      "28000000       5\n",
      "28500000       2\n",
      "29000000       3\n",
      "29500000       1\n",
      "30000000       2\n",
      "30500000       8\n",
      "31000000       5\n",
      "31500000       5\n",
      "32000000       3\n",
      "32500000       1\n",
      "33000000       3\n",
      "34000000       2\n",
      "34500000       3\n",
      "35000000       2\n",
      "35500000       3\n",
      "36000000       3\n",
      "36500000       3\n",
      "37000000       2\n",
      "37500000       3\n",
      "38000000       3\n",
      "38500000       1\n",
      "39000000       2\n",
      "39500000       1\n",
      "40500000       3\n",
      "41000000       2\n",
      "42000000       1\n",
      "42500000       1\n",
      "44000000       4\n",
      "44500000       3\n",
      "45000000       4\n",
      "46000000       1\n",
      "46500000       1\n",
      "47500000       1\n",
      "48500000       2\n",
      "49000000       1\n",
      "49500000       2\n",
      "50000000       3\n",
      "50500000       2\n",
      "51000000       1\n",
      "51500000       1\n",
      "52000000       1\n",
      "52500000       1\n",
      "53000000       4\n",
      "54500000       1\n",
      "55000000       1\n",
      "56000000       1\n",
      "57000000       1\n",
      "58000000       1\n",
      "59500000       1\n",
      "60000000       2\n",
      "63000000       1\n",
      "65000000       1\n",
      "67500000       1\n",
      "69500000       1\n",
      "71000000       2\n",
      "72500000       1\n",
      "75500000       1\n",
      "78000000       2\n",
      "80000000       1\n",
      "87000000       1\n",
      "90000000       1\n",
      "105500000      1\n"
     ]
    }
   ],
   "source": [
    "# What is the distribution of player values?\n",
    "value_distribution = fifa21['value_eur'].value_counts().sort_index()\n",
    "print(value_distribution.to_string())"
   ]
  },
  {
   "cell_type": "code",
   "execution_count": 34,
   "id": "2071c955",
   "metadata": {},
   "outputs": [
    {
     "name": "stdout",
     "output_type": "stream",
     "text": [
      "500       2351\n",
      "550        115\n",
      "600        135\n",
      "650        112\n",
      "700        114\n",
      "750        138\n",
      "800        127\n",
      "850        137\n",
      "900        143\n",
      "950        137\n",
      "1000      1353\n",
      "2000      2471\n",
      "3000      1682\n",
      "4000      1019\n",
      "5000       783\n",
      "6000       552\n",
      "7000       420\n",
      "8000       338\n",
      "9000       316\n",
      "10000      178\n",
      "11000      222\n",
      "12000      214\n",
      "13000      203\n",
      "14000      174\n",
      "15000      174\n",
      "16000      130\n",
      "17000      120\n",
      "18000      123\n",
      "19000       85\n",
      "20000       99\n",
      "21000      108\n",
      "22000       80\n",
      "23000       66\n",
      "24000       75\n",
      "25000       64\n",
      "26000       77\n",
      "27000       61\n",
      "28000       51\n",
      "29000       55\n",
      "30000       44\n",
      "31000       45\n",
      "32000       30\n",
      "33000       38\n",
      "34000       41\n",
      "35000       31\n",
      "36000       37\n",
      "37000       35\n",
      "38000       37\n",
      "39000       28\n",
      "40000       23\n",
      "41000       36\n",
      "42000       34\n",
      "43000       19\n",
      "44000       28\n",
      "45000       19\n",
      "46000       28\n",
      "47000       23\n",
      "48000       28\n",
      "49000       24\n",
      "50000       24\n",
      "51000       18\n",
      "52000       13\n",
      "53000       13\n",
      "54000       13\n",
      "55000       19\n",
      "56000       13\n",
      "57000       14\n",
      "58000       11\n",
      "59000       14\n",
      "60000       10\n",
      "61000        6\n",
      "62000        7\n",
      "63000        8\n",
      "64000        7\n",
      "65000       11\n",
      "66000       13\n",
      "67000        3\n",
      "68000        8\n",
      "69000       10\n",
      "70000        8\n",
      "71000        5\n",
      "72000        6\n",
      "73000        7\n",
      "74000        5\n",
      "75000        4\n",
      "76000        6\n",
      "77000        8\n",
      "78000        5\n",
      "79000        8\n",
      "80000        9\n",
      "81000        6\n",
      "82000        8\n",
      "83000        5\n",
      "84000        8\n",
      "85000        4\n",
      "86000        6\n",
      "87000        2\n",
      "89000        3\n",
      "90000        4\n",
      "91000        3\n",
      "92000        4\n",
      "93000        4\n",
      "94000        6\n",
      "95000        3\n",
      "96000        6\n",
      "97000        2\n",
      "98000        4\n",
      "99000        2\n",
      "100000       9\n",
      "105000      14\n",
      "110000      10\n",
      "115000      10\n",
      "120000       8\n",
      "125000       9\n",
      "130000       5\n",
      "135000       7\n",
      "140000       8\n",
      "145000       2\n",
      "150000       4\n",
      "155000       4\n",
      "160000       6\n",
      "165000       3\n",
      "170000       5\n",
      "175000       2\n",
      "190000       7\n",
      "195000       1\n",
      "200000       1\n",
      "210000       3\n",
      "220000       6\n",
      "230000       2\n",
      "240000       2\n",
      "250000       2\n",
      "260000       1\n",
      "270000       2\n",
      "280000       1\n",
      "290000       1\n",
      "300000       2\n",
      "310000       2\n",
      "350000       2\n",
      "370000       1\n",
      "560000       1\n"
     ]
    }
   ],
   "source": [
    "# What is the distribution of player wages?\n",
    "wage_distribution = fifa21['wage_eur'].value_counts().sort_index()\n",
    "print(wage_distribution.to_string())"
   ]
  },
  {
   "cell_type": "code",
   "execution_count": 35,
   "id": "cdcde4ae",
   "metadata": {},
   "outputs": [
    {
     "data": {
      "text/plain": [
       "sofifa_id                                                231747\n",
       "player_url    https://sofifa.com/player/231747/kylian-mbappe...\n",
       "short_name                                            K. Mbappé\n",
       "long_name                                  Kylian Mbappé Lottin\n",
       "age                                                          21\n",
       "                                    ...                        \n",
       "lb                                                         63+3\n",
       "lcb                                                        55+3\n",
       "cb                                                         55+3\n",
       "rcb                                                        55+3\n",
       "rb                                                         63+3\n",
       "Name: 6, Length: 94, dtype: object"
      ]
     },
     "execution_count": 35,
     "metadata": {},
     "output_type": "execute_result"
    }
   ],
   "source": [
    "# Which players have the highest market value?\n",
    "highest_value_player = fifa21.loc[fifa21['value_eur'].idxmax()]\n",
    "highest_value_player"
   ]
  },
  {
   "cell_type": "code",
   "execution_count": 36,
   "id": "beb38d0c",
   "metadata": {},
   "outputs": [
    {
     "data": {
      "text/plain": [
       "sofifa_id                                                158023\n",
       "player_url    https://sofifa.com/player/158023/lionel-messi/...\n",
       "short_name                                             L. Messi\n",
       "long_name                        Lionel Andrés Messi Cuccittini\n",
       "age                                                          33\n",
       "                                    ...                        \n",
       "lb                                                         62+3\n",
       "lcb                                                        52+3\n",
       "cb                                                         52+3\n",
       "rcb                                                        52+3\n",
       "rb                                                         62+3\n",
       "Name: 0, Length: 94, dtype: object"
      ]
     },
     "execution_count": 36,
     "metadata": {},
     "output_type": "execute_result"
    }
   ],
   "source": [
    "# Which players have the highest market wage?\n",
    "highest_wage_player = fifa21.loc[fifa21['wage_eur'].idxmax()]\n",
    "highest_wage_player"
   ]
  },
  {
   "cell_type": "code",
   "execution_count": 37,
   "id": "b081da6b",
   "metadata": {},
   "outputs": [
    {
     "data": {
      "text/plain": [
       "0.6422375868211335"
      ]
     },
     "execution_count": 37,
     "metadata": {},
     "output_type": "execute_result"
    }
   ],
   "source": [
    "# Is there a correlation between a player's overall rating and his value?\n",
    "correlation_rating_value = fifa21['overall'].corr(fifa21['value_eur'])\n",
    "correlation_rating_value"
   ]
  },
  {
   "cell_type": "markdown",
   "id": "b6493bc3",
   "metadata": {},
   "source": [
    "> It indicates a moderate to strong correlation between player fifa rating and value"
   ]
  },
  {
   "cell_type": "code",
   "execution_count": 38,
   "id": "554dd677",
   "metadata": {},
   "outputs": [
    {
     "data": {
      "text/plain": [
       "0.5842992220083535"
      ]
     },
     "execution_count": 38,
     "metadata": {},
     "output_type": "execute_result"
    }
   ],
   "source": [
    "## Is there a correlation between a player's overall rating and his wage?\n",
    "correlation_rating_wage = fifa21['overall'].corr(fifa21['wage_eur'])\n",
    "correlation_rating_wage"
   ]
  },
  {
   "cell_type": "markdown",
   "id": "f28aefe1",
   "metadata": {},
   "source": [
    "> it indicates a moderate  correlation between player fifa rating and wage"
   ]
  }
 ],
 "metadata": {
  "kernelspec": {
   "display_name": "Python 3 (ipykernel)",
   "language": "python",
   "name": "python3"
  },
  "language_info": {
   "codemirror_mode": {
    "name": "ipython",
    "version": 3
   },
   "file_extension": ".py",
   "mimetype": "text/x-python",
   "name": "python",
   "nbconvert_exporter": "python",
   "pygments_lexer": "ipython3",
   "version": "3.9.7"
  }
 },
 "nbformat": 4,
 "nbformat_minor": 5
}
